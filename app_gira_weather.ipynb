{
 "cells": [
  {
   "cell_type": "code",
   "execution_count": 6,
   "metadata": {},
   "outputs": [
    {
     "name": "stdout",
     "output_type": "stream",
     "text": [
      "\n",
      "Welcome to Gira Weather App.\n",
      "\n",
      "\n",
      "\n",
      "ok, let's go\n",
      "\n",
      "You just woke up and discovered that you are in a bike station. Explore the App to find available bikes and weather.\n",
      "\n",
      "In Gira Station 388 there are 11 bikes\n",
      "\n",
      "The average temperature for today is 14.00°C\n",
      "\n",
      "Also today there's 0.00% chance of raining\n"
     ]
    }
   ],
   "source": [
    "import requests\n",
    "import pandas as pd\n",
    "\n",
    "# libraries to open image\n",
    "from PIL import Image\n",
    "from io import BytesIO\n",
    "\n",
    "def space1():\n",
    "    print(                                                          )\n",
    "\n",
    "def welcome_ironhack_game():\n",
    "    # Carregar a imagem\n",
    "    imagem = Image.open('gira_weather.jpg')\n",
    "    # Mostrar a imagem\n",
    "    imagem.show()\n",
    "    space1()\n",
    "    print(\"Welcome to Gira Weather App.\")\n",
    "    space1()\n",
    "    start_game()\n",
    "\n",
    "def start_game():\n",
    "    space1()\n",
    "    question = input(\"Do you want to take a bike?   v1.1 (yes/no)\")\n",
    "    if question == \"yes\":\n",
    "        space1()\n",
    "        print(\"ok, let's go\")\n",
    "        space1()\n",
    "        introdction()\n",
    "    elif question == \"no\":\n",
    "        print(\"ok, see you another day\")\n",
    "        exit\n",
    "    else:\n",
    "        print(\"sorry, I didn't understand that\")\n",
    "\n",
    "def introdction():\n",
    "    print(\"You just woke up and discovered that you are in a bike station. Explore the App to find available bikes and weather.\")\n",
    "    examine_object()\n",
    "\n",
    "def examine_object():\n",
    "    url = 'https://opendata.emel.pt/cycling/gira/station/availability'\n",
    "    response = requests.get(url)\n",
    "    st_availability = response.json()\n",
    "    station_id = input(\"Enter the ID of the bike station: \")\n",
    "    station_data = next((station['properties'] for station in st_availability['features'] if station['properties']['id_expl'] == str(station_id)), None)\n",
    "    space1()\n",
    "    print(f\"In Gira Station {station_id} there are {station_data['num_bicicletas']} bikes\")\n",
    "    space1()\n",
    "    show_weather_summary()\n",
    "\n",
    "def show_weather_summary():     \n",
    "    url = \"https://api.ipma.pt/open-data/forecast/meteorology/cities/daily/hp-daily-forecast-day0.json\"\n",
    "    r = requests.get(url)\n",
    "    df1 = r.json()\n",
    "    df1 = df1[\"data\"]\n",
    "    real_time_data = pd.DataFrame(df1)\n",
    "    lisbon_weather = real_time_data[real_time_data[\"globalIdLocal\"] == 1110600]\n",
    "    average_temp = (lisbon_weather[\"tMin\"] + lisbon_weather[\"tMax\"]) / 2\n",
    "    rain = lisbon_weather[\"precipitaProb\"].mean()  # Calculate the mean probability of raining\n",
    "    print(f\"The average temperature for today is {average_temp.iloc[0]:.2f}°C\")\n",
    "    space1()\n",
    "    print(f\"Also today there's {rain:.2%} chance of raining\")\n",
    "\n",
    "# Start the game\n",
    "welcome_ironhack_game()\n",
    "\n"
   ]
  }
 ],
 "metadata": {
  "kernelspec": {
   "display_name": "base",
   "language": "python",
   "name": "python3"
  },
  "language_info": {
   "codemirror_mode": {
    "name": "ipython",
    "version": 3
   },
   "file_extension": ".py",
   "mimetype": "text/x-python",
   "name": "python",
   "nbconvert_exporter": "python",
   "pygments_lexer": "ipython3",
   "version": "3.11.5"
  }
 },
 "nbformat": 4,
 "nbformat_minor": 2
}
