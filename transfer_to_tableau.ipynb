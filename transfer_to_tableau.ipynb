{
 "cells": [
  {
   "cell_type": "code",
   "execution_count": null,
   "metadata": {},
   "outputs": [],
   "source": [
    "import requests\n",
    "import pandas as pd\n",
    "\n",
    "# API: STATISTICS USAGE:\n",
    "\n",
    "url = 'https://opendata.emel.pt/cycling/gira/statistics/usage'\n",
    "\n",
    "response = requests.get(url)\n",
    "\n",
    "statistics = response.json()\n",
    "\n",
    "df_statistics = pd.DataFrame(statistics)\n",
    "\n",
    "# Sorting values by dates\n",
    "\n",
    "df_statistics['tripStartDate'] = pd.to_datetime(df_statistics['tripStartDate']) \n",
    "df_statistics = df_statistics.sort_values(by='tripStartDate', ignore_index=True)\n",
    "df_statistics['totalHoursPerDay'] = df_statistics['totalSecondsPerDay']/3600\n",
    "df_statistics.to_json('df_statistics.json', orient='records', lines=True)"
   ]
  },
  {
   "cell_type": "code",
   "execution_count": 3,
   "metadata": {},
   "outputs": [],
   "source": [
    "# API: BIKELANES: \n",
    "\n",
    "url = 'https://opendata.emel.pt/cycling/gira/bikelanes'\n",
    "\n",
    "response = requests.get(url)\n",
    "\n",
    "bikelanes = response.json()\n",
    "\n",
    "df_bikelanes = pd.DataFrame(bikelanes)\n",
    "\n",
    "df_bikelanes.to_json('df_bikelanes.json', orient='records', lines=True)"
   ]
  },
  {
   "cell_type": "code",
   "execution_count": 10,
   "metadata": {},
   "outputs": [],
   "source": [
    "# API: WEATHER \n",
    "\n",
    "url = \"https://api.ipma.pt/open-data/forecast/meteorology/cities/daily/hp-daily-forecast-day0.json\"\n",
    "response = requests.get(url)\n",
    "weather_data = response.json()\n",
    "weather_data = weather_data['data']\n",
    "weather_df = pd.DataFrame(weather_data)\n",
    "lisbon_weather = weather_df[weather_df[\"globalIdLocal\"] == 1110600]\n",
    "lisbon_weather['average_temp'] = (lisbon_weather[\"tMin\"] + lisbon_weather[\"tMax\"]) / 2\n",
    "lisbon_weather.to_json('lisbon_weather.json', orient='records', lines=True)\n"
   ]
  }
 ],
 "metadata": {
  "kernelspec": {
   "display_name": "base",
   "language": "python",
   "name": "python3"
  },
  "language_info": {
   "codemirror_mode": {
    "name": "ipython",
    "version": 3
   },
   "file_extension": ".py",
   "mimetype": "text/x-python",
   "name": "python",
   "nbconvert_exporter": "python",
   "pygments_lexer": "ipython3",
   "version": "3.11.5"
  }
 },
 "nbformat": 4,
 "nbformat_minor": 2
}
