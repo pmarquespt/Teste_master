{
 "cells": [
  {
   "cell_type": "code",
   "execution_count": 1,
   "metadata": {},
   "outputs": [],
   "source": [
    "import requests\n",
    "import pandas as pd"
   ]
  },
  {
   "cell_type": "code",
   "execution_count": 2,
   "metadata": {},
   "outputs": [
    {
     "name": "stderr",
     "output_type": "stream",
     "text": [
      "C:\\Users\\juan_\\AppData\\Local\\Temp\\ipykernel_4356\\93244001.py:13: UserWarning: Parsing dates in %d-%m-%Y format when dayfirst=False (the default) was specified. Pass `dayfirst=True` or specify a format to silence this warning.\n",
      "  df_statistics['tripStartDate'] = pd.to_datetime(df_statistics['tripStartDate'])\n"
     ]
    }
   ],
   "source": [
    "### API: STATISTICS USAGE:\n",
    "\n",
    "url = 'https://opendata.emel.pt/cycling/gira/statistics/usage'\n",
    "\n",
    "response = requests.get(url)\n",
    "\n",
    "statistics = response.json()\n",
    "\n",
    "df_statistics = pd.DataFrame(statistics)\n",
    "\n",
    "# Sorting values by dates\n",
    "\n",
    "df_statistics['tripStartDate'] = pd.to_datetime(df_statistics['tripStartDate']) \n",
    "df_statistics = df_statistics.sort_values(by='tripStartDate', ignore_index=True)"
   ]
  },
  {
   "cell_type": "code",
   "execution_count": 22,
   "metadata": {},
   "outputs": [
    {
     "name": "stderr",
     "output_type": "stream",
     "text": [
      "C:\\Users\\juan_\\AppData\\Local\\Temp\\ipykernel_4356\\1420355495.py:3: SettingWithCopyWarning: \n",
      "A value is trying to be set on a copy of a slice from a DataFrame\n",
      "\n",
      "See the caveats in the documentation: https://pandas.pydata.org/pandas-docs/stable/user_guide/indexing.html#returning-a-view-versus-a-copy\n",
      "  df_stat_novdec.rename(columns={'tripStartDate':'date'}, inplace=True)\n"
     ]
    },
    {
     "data": {
      "text/plain": [
       "(59, 4)"
      ]
     },
     "execution_count": 22,
     "metadata": {},
     "output_type": "execute_result"
    }
   ],
   "source": [
    "# November_December:\n",
    "df_stat_novdec = df_statistics.tail(59)\n",
    "df_stat_novdec.rename(columns={'tripStartDate':'date'}, inplace=True)\n",
    "df_stat_novdec = df_stat_novdec.tail(58)"
   ]
  },
  {
   "cell_type": "code",
   "execution_count": 35,
   "metadata": {},
   "outputs": [],
   "source": [
    "### WEATHER: HISTORICO TEMP\n",
    "url = \"https://api.ipma.pt/open-data/observation/climate/temperature-min/lisboa/mtnmn-1106-lisboa.csv\"\n",
    "df_historico = pd.read_csv(url)\n"
   ]
  },
  {
   "cell_type": "code",
   "execution_count": 36,
   "metadata": {},
   "outputs": [
    {
     "data": {
      "text/plain": [
       "(59, 2)"
      ]
     },
     "execution_count": 36,
     "metadata": {},
     "output_type": "execute_result"
    }
   ],
   "source": [
    "df_hist_novdec = df_historico.head(59)\n",
    "df_hist_novdec = df_hist_novdec[['date','mean']]\n",
    "df_hist_novdec.rename(columns={'mean':'mean_temp'}, inplace=True)\n",
    "df_hist_novdec = df_hist_novdec.tail(58)"
   ]
  },
  {
   "cell_type": "code",
   "execution_count": 41,
   "metadata": {},
   "outputs": [],
   "source": [
    "### WEATHER: HISTORICO PRECIPITATIONS\n",
    "\n",
    "url = \"https://api.ipma.pt/open-data/observation/climate/precipitation-total/lisboa/mrrto-1106-lisboa.csv\"\n",
    "df_pret = pd.read_csv(url)\n",
    "df_pret = df_pret[['date','mean']]\n",
    "df_pret.rename(columns={'mean':'mean_pret'}, inplace=True)\n",
    "df_pret['date'] = pd.to_datetime(df_pret['date']) \n",
    "df_pret = df_pret.head(58)"
   ]
  },
  {
   "cell_type": "code",
   "execution_count": null,
   "metadata": {},
   "outputs": [],
   "source": [
    "### MERGE DATAFRAMES\n",
    "\n",
    "df_stat_novdec['date'] = pd.to_datetime(df_stat_novdec['date'])\n",
    "df_hist_novdec['date'] = pd.to_datetime(df_hist_novdec['date'])\n",
    "df_pret['date'] = pd.to_datetime(df_pret['date'])\n",
    "\n",
    "df_novdec = pd.merge(df_stat_novdec, df_hist_novdec, on='date', how='inner')\n",
    "df_novdec = pd.merge(df_novdec, df_pret, on='date', how='inner')\n",
    "df_novdec.to_json('df_novdec.json', orient='records', lines=True)"
   ]
  }
 ],
 "metadata": {
  "kernelspec": {
   "display_name": "base",
   "language": "python",
   "name": "python3"
  },
  "language_info": {
   "codemirror_mode": {
    "name": "ipython",
    "version": 3
   },
   "file_extension": ".py",
   "mimetype": "text/x-python",
   "name": "python",
   "nbconvert_exporter": "python",
   "pygments_lexer": "ipython3",
   "version": "3.11.5"
  }
 },
 "nbformat": 4,
 "nbformat_minor": 2
}
