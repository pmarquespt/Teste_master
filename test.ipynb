{
 "cells": [
  {
   "cell_type": "code",
   "execution_count": 12,
   "metadata": {},
   "outputs": [
    {
     "name": "stdout",
     "output_type": "stream",
     "text": [
      "\n",
      "Welcome to Gira Weather App.\n",
      "\n",
      "\n",
      "\n",
      "ok, let's go\n",
      "\n",
      "You just woke up and discovered that you are in a bike station. Explore the App to find available bikes and weather.\n",
      "\n",
      "In Gira Staion 388 there are 11 bikes\n"
     ]
    }
   ],
   "source": [
    "import requests\n",
    "import pandas as pd\n",
    "\n",
    "def space1():\n",
    "    print(                                                          )\n",
    "\n",
    "def welcome_ironhack_game():\n",
    "    space1()\n",
    "    print(\"Welcome to Gira Weather App.\")\n",
    "    space1()\n",
    "    start_game()\n",
    "\n",
    "def start_game():\n",
    "    space1()\n",
    "    question = input(\"Do you want to take a bike?   v1.1 (yes/no)\")\n",
    "    if question == \"yes\":\n",
    "        space1()\n",
    "        print(\"ok, let's go\")\n",
    "        space1()\n",
    "        introdction()\n",
    "    elif question == \"no\":\n",
    "        print(\"ok, see you another day\")\n",
    "        exit\n",
    "    else:\n",
    "        print(\"sorry, I didn't understand that\")\n",
    "\n",
    "def introdction():\n",
    "    print(\"You just woke up and discovered that you are in a bike station. Explore the App to find available bikes and weather.\")\n",
    "    examine_object()\n",
    "\n",
    "def examine_object():\n",
    "    url = 'https://opendata.emel.pt/cycling/gira/station/availability'\n",
    "    response = requests.get(url)\n",
    "    st_availability = response.json()\n",
    "    station_id = input(\"Enter the ID of the bike station: \")\n",
    "    station_data = next((station['properties'] for station in st_availability['features'] if station['properties']['id_expl'] == str(station_id)), None)\n",
    "    space1()\n",
    "    print(f\"In Gira Staion {station_id} there are {station_data['num_bicicletas']} bikes\")\n",
    "\n",
    "# Start the game\n",
    "welcome_ironhack_game()\n",
    "\n"
   ]
  }
 ],
 "metadata": {
  "kernelspec": {
   "display_name": "base",
   "language": "python",
   "name": "python3"
  },
  "language_info": {
   "codemirror_mode": {
    "name": "ipython",
    "version": 3
   },
   "file_extension": ".py",
   "mimetype": "text/x-python",
   "name": "python",
   "nbconvert_exporter": "python",
   "pygments_lexer": "ipython3",
   "version": "3.11.5"
  }
 },
 "nbformat": 4,
 "nbformat_minor": 2
}
